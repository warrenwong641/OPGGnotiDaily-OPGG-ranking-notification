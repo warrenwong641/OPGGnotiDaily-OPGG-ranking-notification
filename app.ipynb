{
 "cells": [
  {
   "cell_type": "code",
   "execution_count": 49,
   "metadata": {},
   "outputs": [
    {
     "name": "stdout",
     "output_type": "stream",
     "text": [
      "['Cassiopeia', 'Galio', 'Akshan', 'Naafiri', 'Anivia', 'Leona', 'Shen', 'Vex', 'Jinx', 'Lillia', 'Nami', 'Nocturne', 'Sett', 'Malphite', 'Dr. Mundo', 'Riven', 'Nasus', 'Lux', 'Camille', 'Garen', \"Kai'Sa\", 'Volibear', 'Sylas', 'Mordekaiser', \"Kha'Zix\", 'Darius', 'Tristana', 'Jax', 'LeBlanc', 'Yasuo', 'Ahri', 'Aatrox', 'Garen', 'Brand', 'Quinn', \"Kog'Maw\", 'Fiddlesticks', 'Udyr', 'Warwick', 'Warwick', 'Urgot', 'Ekko', 'Kayle', 'Janna', 'Kled', 'Braum', 'Vladimir', 'Poppy', 'Zac', 'Diana', 'Tryndamere', 'Gwen', 'Zoe', 'Shaco', 'Vladimir', 'Ashe', 'Miss Fortune', 'Twisted Fate', 'Yorick', 'Illaoi', 'Lulu', 'Pantheon', 'Fiora', 'Talon', 'Brand', 'Veigar', 'Viktor', 'Aurelion Sol', 'Thresh', 'Jhin', 'Xerath', 'Ornn', 'Gragas', 'Twisted Fate', 'Lissandra', 'Nidalee', 'Malzahar', 'Nautilus', 'Ezreal', 'Syndra', 'Viego', 'Renekton', 'Katarina', 'Akali', 'Yone', 'Lee Sin', 'Hwei', 'Zed', 'Akshan', 'Seraphine', 'Rumble', 'Naafiri', 'Cassiopeia', 'Taric', 'Nilah', 'Kennen', 'Heimerdinger', 'Ivern', 'Poppy', 'Pantheon', 'Amumu', 'Sona', 'Volibear', 'Annie', 'Shyvana', 'Twitch', 'Nunu & Willump', 'Rell', 'Quinn', 'Trundle', \"Vel'Koz\", 'Malphite', \"Bel'Veth\", 'Soraka', 'Alistar', 'Master Yi', 'Jarvan IV', 'Seraphine', 'Olaf', 'Ekko', 'Brand', 'Singed', 'Qiyana', 'Zac', 'Xin Zhao', 'Kindred', 'Zyra', 'Karma', 'Pyke', 'Vayne', 'Tahm Kench', 'Vayne', 'Diana', 'Gnar', 'Milio', 'Kayn', 'Kennen', 'Draven', 'Fizz', 'Blitzcrank', 'Hecarim', 'Irelia', 'Taliyah', 'Zeri', 'Teemo', 'Rumble', 'Irelia', 'Lucian', 'Yasuo', 'Caitlyn', 'Orianna', 'Gangplank', 'Yone', 'Tahm Kench', 'Galio', 'Neeko', 'Swain', 'Gwen', 'Kayle', 'Amumu', \"Rek'Sai\", 'Rumble', 'Morgana', 'Bard', 'Nasus', 'Zilean', 'Rammus', 'Neeko', 'Gragas', 'Maokai', 'Evelynn', 'Talon', 'Briar', \"Vel'Koz\", 'Sivir', 'Elise', 'Tristana', 'Rakan', 'Shaco', 'Gragas', 'Zed', 'Xayah', 'Sylas', 'Jax', 'Wukong', 'Sejuani', 'Yuumi', 'Kassadin', 'Xerath', 'Lux', \"Cho'Gath\", 'Smolder', 'Rengar', 'Samira', 'Zyra', 'Vi', 'Senna', 'Taliyah', 'Graves', 'Brand', 'Morgana', 'Sion', 'Jayce', 'Corki', \"K'Sante\", 'Zac', 'Ziggs', 'Shen', 'Swain', 'Pantheon', 'Renata Glasc', 'Camille', 'Wukong', 'Poppy', 'Maokai', 'Ryze', 'Udyr', 'Corki', 'Pantheon', 'Ryze', 'Ziggs', 'Varus', 'Jayce', 'Karthus', 'Kalista', 'Skarner', 'Lucian', 'Sylas', 'Akali', 'Azir', 'Smolder', 'Varus', 'Aphelios', 'Zed', 'Hwei', 'Smolder', 'Skarner', 'Ashe', '', 'OP.GG', 'Products', 'Apps', 'Resources', 'Privacy Policy', 'More']\n",
      "['1', '1', '1', '1', '1', '1', '1', '1', '1', '1', '1', '1', '1', '1', '1', '1', '1', '1', '1', '1', '1', '1', '1', '1', '1', '1', '1', '1', '1', '1', '1', '1', '2', '2', '2', '2', '2', '2', '2', '2', '2', '2', '2', '2', '2', '2', '2', '2', '2', '2', '2', '2', '2', '2', '2', '2', '2', '2', '2', '2', '2', '2', '2', '2', '2', '2', '2', '2', '2', '2', '2', '2', '2', '2', '2', '2', '2', '2', '2', '2', '2', '2', '2', '2', '2', '2', '2', '2', '3', '3', '3', '3', '3', '3', '3', '3', '3', '3', '3', '3', '3', '3', '3', '3', '3', '3', '3', '3', '3', '3', '3', '3', '3', '3', '3', '3', '3', '3', '3', '3', '3', '3', '3', '3', '3', '3', '3', '3', '3', '3', '3', '3', '3', '3', '3', '3', '3', '3', '3', '3', '3', '3', '3', '3', '3', '3', '3', '3', '3', '3', '3', '3', '3', '4', '4', '4', '4', '4', '4', '4', '4', '4', '4', '4', '4', '4', '4', '4', '4', '4', '4', '4', '4', '4', '4', '4', '4', '4', '4', '4', '4', '4', '4', '4', '4', '4', '4', '4', '4', '4', '4', '4', '4', '4', '4', '4', '4', '4', '4', '4', '4', '4', '4', '4', '4', '5', '5', '5', '5', '5', '5', '5', '5', '5', '5', '5', '5', '5', '5', '5', '5', '5', '5', '5', '5', '5', '5', '5', '5', '5', '5', '5', '5', '5', '5', '5', '5', '5']\n"
     ]
    }
   ],
   "source": [
    "import requests\n",
    "from bs4 import BeautifulSoup\n",
    "from plyer import notification\n",
    "import schedule\n",
    "import time\n",
    "import os\n",
    "import platform\n",
    "import subprocess\n",
    "import sys\n",
    "\n",
    "def get_top_champions():\n",
    "    url = \"https://www.op.gg/champions\"  # Replace with actual OP.gg URL\n",
    "    response = requests.get(url)\n",
    "    soup = BeautifulSoup(response.content, 'html.parser')\n",
    "    data_elements = soup.find_all('td', class_='css-1qly9n1 eq1151q5')\n",
    "\n",
    "    # Extract the champion data (assuming it's the text content of the 'td' element)\n",
    "    champion_tier = [element.text.strip() for element in data_elements]\n",
    "    data_elements = soup.find_all('strong')\n",
    "    champion_name = [element.text.strip() for element in data_elements]\n",
    "    print(champion_name)\n",
    "    print(champion_tier)\n",
    "    # ... (Implement logic to extract top 5 champion data from soup)\n",
    "    return champion_name , champion_tier\n",
    "def display_notification(champion_data):\n",
    "    notification.notify(\n",
    "        title=\"LoL Tier 1 Champs\",\n",
    "        message=champion_data,\n",
    "        timeout=10\n",
    "    )\n",
    "\n",
    "\n",
    "\n",
    "\n",
    "def configure_autostart():\n",
    "    \"\"\"Configures the app to start automatically on system startup.\"\"\"\n",
    "    system = platform.system()\n",
    "    if system == \"Windows\":\n",
    "        # Windows auto-start configuration (using shortcut)\n",
    "        startup_path = os.path.join(os.getenv('APPDATA'), 'Microsoft', 'Windows', 'Start Menu', 'Programs', 'Startup')\n",
    "        shortcut_path = os.path.join(startup_path, \"LoL Tier1 Champs.lnk\")\n",
    "        script_path = os.path.abspath(sys.argv[0])  # Get the absolute path to your script\n",
    "\n",
    "        # Create the shortcut using the 'CreateShortcut' command\n",
    "        subprocess.run([\n",
    "            \"cmd\", \"/c\",\n",
    "            \"CreateShortcut\",\n",
    "            f\"/Target:\\\"{script_path}\\\"\",\n",
    "            f\"/Shortcut:\\\"{shortcut_path}\\\"\",\n",
    "            \"/WorkingDirectory:\\\"{os.path.dirname(script_path)}\\\"\"\n",
    "        ])\n",
    "\n",
    "        # Ensure the shortcut is created and the script is executable\n",
    "        if os.path.exists(shortcut_path) and os.access(script_path, os.X_OK):\n",
    "            print(\"Auto-start configuration successful!\")\n",
    "        else:\n",
    "            print(\"Error creating auto-start shortcut.\")\n",
    "\n",
    "\n",
    "def main():\n",
    "    name, tier = get_top_champions()\n",
    "    d = {}\n",
    "    for i in range(len(tier)):\n",
    "        d[name[i]] = tier[i]\n",
    "        if tier[i] != '1':\n",
    "            break\n",
    "    s = ''\n",
    "    i = 0\n",
    "    for k,v in d.items():\n",
    "        if i == 100:\n",
    "            break\n",
    "        s += f'{k}, '\n",
    "        i += 1\n",
    "    display_notification(s)\n",
    "if __name__ == \"__main__\":\n",
    "    configure_autostart() \n",
    "    main()\n",
    "\n",
    "\n"
   ]
  },
  {
   "cell_type": "code",
   "execution_count": 37,
   "metadata": {},
   "outputs": [
    {
     "data": {
      "text/plain": [
       "{'Cassiopeia': '1',\n",
       " 'Galio': '1',\n",
       " 'Akshan': '1',\n",
       " 'Naafiri': '1',\n",
       " 'Anivia': '1',\n",
       " 'Leona': '1',\n",
       " 'Shen': '1',\n",
       " 'Vex': '1',\n",
       " 'Jinx': '1',\n",
       " 'Lillia': '1',\n",
       " 'Nami': '1',\n",
       " 'Nocturne': '1',\n",
       " 'Sett': '1',\n",
       " 'Malphite': '1',\n",
       " 'Dr. Mundo': '1',\n",
       " 'Riven': '1',\n",
       " 'Nasus': '1',\n",
       " 'Lux': '1',\n",
       " 'Camille': '1',\n",
       " 'Garen': '2',\n",
       " \"Kai'Sa\": '1',\n",
       " 'Volibear': '1',\n",
       " 'Sylas': '1',\n",
       " 'Mordekaiser': '1',\n",
       " \"Kha'Zix\": '1',\n",
       " 'Darius': '1',\n",
       " 'Tristana': '1',\n",
       " 'Jax': '1',\n",
       " 'LeBlanc': '1',\n",
       " 'Yasuo': '1',\n",
       " 'Ahri': '1',\n",
       " 'Aatrox': '1'}"
      ]
     },
     "execution_count": 37,
     "metadata": {},
     "output_type": "execute_result"
    }
   ],
   "source": [
    "d = {}\n",
    "for i in range(len(tier)):\n",
    "    d[name[i]] = tier[i]\n",
    "    if tier[i] != '1':\n",
    "        break\n",
    "d"
   ]
  },
  {
   "cell_type": "code",
   "execution_count": 4,
   "metadata": {},
   "outputs": [
    {
     "name": "stdout",
     "output_type": "stream",
     "text": [
      "Requirement already satisfied: bs4 in c:\\users\\user\\appdata\\local\\programs\\python\\python312\\lib\\site-packages (0.0.2)\n",
      "Requirement already satisfied: plyer in c:\\users\\user\\appdata\\local\\programs\\python\\python312\\lib\\site-packages (2.1.0)\n",
      "Collecting schedule\n",
      "  Downloading schedule-1.2.2-py3-none-any.whl.metadata (3.8 kB)\n",
      "Requirement already satisfied: beautifulsoup4 in c:\\users\\user\\appdata\\local\\programs\\python\\python312\\lib\\site-packages (from bs4) (4.12.3)\n",
      "Requirement already satisfied: soupsieve>1.2 in c:\\users\\user\\appdata\\local\\programs\\python\\python312\\lib\\site-packages (from beautifulsoup4->bs4) (2.5)\n",
      "Downloading schedule-1.2.2-py3-none-any.whl (12 kB)\n",
      "Installing collected packages: schedule\n",
      "Successfully installed schedule-1.2.2\n",
      "Note: you may need to restart the kernel to use updated packages.\n"
     ]
    },
    {
     "name": "stderr",
     "output_type": "stream",
     "text": [
      "\n",
      "[notice] A new release of pip is available: 24.1 -> 24.1.1\n",
      "[notice] To update, run: python.exe -m pip install --upgrade pip\n"
     ]
    }
   ],
   "source": [
    "pip install bs4 plyer schedule"
   ]
  }
 ],
 "metadata": {
  "kernelspec": {
   "display_name": "Python 3",
   "language": "python",
   "name": "python3"
  },
  "language_info": {
   "codemirror_mode": {
    "name": "ipython",
    "version": 3
   },
   "file_extension": ".py",
   "mimetype": "text/x-python",
   "name": "python",
   "nbconvert_exporter": "python",
   "pygments_lexer": "ipython3",
   "version": "3.12.3"
  }
 },
 "nbformat": 4,
 "nbformat_minor": 2
}
